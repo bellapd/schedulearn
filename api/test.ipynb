{
 "cells": [
  {
   "cell_type": "code",
   "execution_count": 1,
   "metadata": {},
   "outputs": [
    {
     "data": {
      "text/plain": [
       "True"
      ]
     },
     "execution_count": 1,
     "metadata": {},
     "output_type": "execute_result"
    }
   ],
   "source": [
    "import docker\n",
    "import os\n",
    "from dotenv import load_dotenv\n",
    "import config\n",
    "\n",
    "load_dotenv()"
   ]
  },
  {
   "cell_type": "code",
   "execution_count": 5,
   "metadata": {},
   "outputs": [
    {
     "ename": "DockerException",
     "evalue": "Invalid bind address format: port is required: tcp://140.114.28.247",
     "output_type": "error",
     "traceback": [
      "\u001b[0;31m---------------------------------------------------------------------------\u001b[0m",
      "\u001b[0;31mDockerException\u001b[0m                           Traceback (most recent call last)",
      "\u001b[1;32m/home/johnbjohn/git-repos/schedulearn/api/test.ipynb Cell 2\u001b[0m in \u001b[0;36m<cell line: 3>\u001b[0;34m()\u001b[0m\n\u001b[1;32m      <a href='vscode-notebook-cell://ssh-remote%2B140.114.28.247/home/johnbjohn/git-repos/schedulearn/api/test.ipynb#ch0000003vscode-remote?line=0'>1</a>\u001b[0m client3 \u001b[39m=\u001b[39m docker\u001b[39m.\u001b[39mfrom_env()\n\u001b[1;32m      <a href='vscode-notebook-cell://ssh-remote%2B140.114.28.247/home/johnbjohn/git-repos/schedulearn/api/test.ipynb#ch0000003vscode-remote?line=1'>2</a>\u001b[0m client4 \u001b[39m=\u001b[39m docker\u001b[39m.\u001b[39mDockerClient(base_url\u001b[39m=\u001b[39mconfig\u001b[39m.\u001b[39mGPU4_DOCKER_HOST)\n\u001b[0;32m----> <a href='vscode-notebook-cell://ssh-remote%2B140.114.28.247/home/johnbjohn/git-repos/schedulearn/api/test.ipynb#ch0000003vscode-remote?line=2'>3</a>\u001b[0m client5 \u001b[39m=\u001b[39m docker\u001b[39m.\u001b[39;49mDockerClient(base_url\u001b[39m=\u001b[39;49m\u001b[39m\"\u001b[39;49m\u001b[39mtcp://140.114.28.247\u001b[39;49m\u001b[39m\"\u001b[39;49m)\n",
      "File \u001b[0;32m~/.local/lib/python3.10/site-packages/docker/client.py:45\u001b[0m, in \u001b[0;36mDockerClient.__init__\u001b[0;34m(self, *args, **kwargs)\u001b[0m\n\u001b[1;32m     44\u001b[0m \u001b[39mdef\u001b[39;00m \u001b[39m__init__\u001b[39m(\u001b[39mself\u001b[39m, \u001b[39m*\u001b[39margs, \u001b[39m*\u001b[39m\u001b[39m*\u001b[39mkwargs):\n\u001b[0;32m---> 45\u001b[0m     \u001b[39mself\u001b[39m\u001b[39m.\u001b[39mapi \u001b[39m=\u001b[39m APIClient(\u001b[39m*\u001b[39;49margs, \u001b[39m*\u001b[39;49m\u001b[39m*\u001b[39;49mkwargs)\n",
      "File \u001b[0;32m~/.local/lib/python3.10/site-packages/docker/api/client.py:136\u001b[0m, in \u001b[0;36mAPIClient.__init__\u001b[0;34m(self, base_url, version, timeout, tls, user_agent, num_pools, credstore_env, use_ssh_client, max_pool_size)\u001b[0m\n\u001b[1;32m    131\u001b[0m \u001b[39mself\u001b[39m\u001b[39m.\u001b[39m_auth_configs \u001b[39m=\u001b[39m auth\u001b[39m.\u001b[39mload_config(\n\u001b[1;32m    132\u001b[0m     config_dict\u001b[39m=\u001b[39m\u001b[39mself\u001b[39m\u001b[39m.\u001b[39m_general_configs, credstore_env\u001b[39m=\u001b[39mcredstore_env,\n\u001b[1;32m    133\u001b[0m )\n\u001b[1;32m    134\u001b[0m \u001b[39mself\u001b[39m\u001b[39m.\u001b[39mcredstore_env \u001b[39m=\u001b[39m credstore_env\n\u001b[0;32m--> 136\u001b[0m base_url \u001b[39m=\u001b[39m utils\u001b[39m.\u001b[39;49mparse_host(\n\u001b[1;32m    137\u001b[0m     base_url, IS_WINDOWS_PLATFORM, tls\u001b[39m=\u001b[39;49m\u001b[39mbool\u001b[39;49m(tls)\n\u001b[1;32m    138\u001b[0m )\n\u001b[1;32m    139\u001b[0m \u001b[39m# SSH has a different default for num_pools to all other adapters\u001b[39;00m\n\u001b[1;32m    140\u001b[0m num_pools \u001b[39m=\u001b[39m num_pools \u001b[39mor\u001b[39;00m DEFAULT_NUM_POOLS_SSH \u001b[39mif\u001b[39;00m \\\n\u001b[1;32m    141\u001b[0m     base_url\u001b[39m.\u001b[39mstartswith(\u001b[39m'\u001b[39m\u001b[39mssh://\u001b[39m\u001b[39m'\u001b[39m) \u001b[39melse\u001b[39;00m DEFAULT_NUM_POOLS\n",
      "File \u001b[0;32m~/.local/lib/python3.10/site-packages/docker/utils/utils.py:272\u001b[0m, in \u001b[0;36mparse_host\u001b[0;34m(addr, is_win32, tls)\u001b[0m\n\u001b[1;32m    270\u001b[0m \u001b[39mif\u001b[39;00m port \u001b[39mis\u001b[39;00m \u001b[39mNone\u001b[39;00m \u001b[39mor\u001b[39;00m port \u001b[39m<\u001b[39m \u001b[39m0\u001b[39m:\n\u001b[1;32m    271\u001b[0m     \u001b[39mif\u001b[39;00m proto \u001b[39m!=\u001b[39m \u001b[39m'\u001b[39m\u001b[39mssh\u001b[39m\u001b[39m'\u001b[39m:\n\u001b[0;32m--> 272\u001b[0m         \u001b[39mraise\u001b[39;00m errors\u001b[39m.\u001b[39mDockerException(\n\u001b[1;32m    273\u001b[0m             \u001b[39m'\u001b[39m\u001b[39mInvalid bind address format: port is required:\u001b[39m\u001b[39m'\u001b[39m\n\u001b[1;32m    274\u001b[0m             \u001b[39m'\u001b[39m\u001b[39m \u001b[39m\u001b[39m{}\u001b[39;00m\u001b[39m'\u001b[39m\u001b[39m.\u001b[39mformat(addr)\n\u001b[1;32m    275\u001b[0m         )\n\u001b[1;32m    276\u001b[0m     port \u001b[39m=\u001b[39m \u001b[39m22\u001b[39m\n\u001b[1;32m    278\u001b[0m \u001b[39mif\u001b[39;00m \u001b[39mnot\u001b[39;00m host:\n",
      "\u001b[0;31mDockerException\u001b[0m: Invalid bind address format: port is required: tcp://140.114.28.247"
     ]
    }
   ],
   "source": [
    "client3 = docker.from_env()\n",
    "client4 = docker.DockerClient(base_url=config.GPU4_DOCKER_HOST)\n",
    "client5 = docker.DockerClient(base_url=config.GPU5_DOCKER_HOST)"
   ]
  },
  {
   "cell_type": "code",
   "execution_count": 3,
   "metadata": {},
   "outputs": [
    {
     "name": "stdout",
     "output_type": "stream",
     "text": [
      "http+docker://localhost\n"
     ]
    }
   ],
   "source": [
    "# print the client IP\n",
    "print(client3.api.base_url)"
   ]
  },
  {
   "cell_type": "code",
   "execution_count": 4,
   "metadata": {},
   "outputs": [
    {
     "name": "stdout",
     "output_type": "stream",
     "text": [
      "http+docker://ssh\n"
     ]
    }
   ],
   "source": [
    "print(client4.api.base_url)"
   ]
  },
  {
   "cell_type": "code",
   "execution_count": 15,
   "metadata": {},
   "outputs": [
    {
     "name": "stdout",
     "output_type": "stream",
     "text": [
      "quirky_euclid\n",
      "gifted_roentgen\n",
      "horovod_test\n",
      "hardcore_raman\n",
      "k8s_training-operator_training-operator-795c5cb864-2q7g5_kubeflow_b51b77c7-8fe9-494f-807f-c93203462330_7\n",
      "k8s_nfs-subdir-external-provisioner_nfs-subdir-external-provisioner-654bb7ffd7-t9h7h_default_d6f1d1be-1805-44d6-b946-cae51deaeea7_2\n",
      "k8s_operator_rabbitmq-cluster-operator-755c76fc56-t6lg4_rabbitmq-system_87204b61-d694-46d9-9270-74cee4843c26_2\n",
      "k8s_POD_training-operator-795c5cb864-2q7g5_kubeflow_b51b77c7-8fe9-494f-807f-c93203462330_0\n",
      "k8s_kube-flannel_kube-flannel-ds-h52s9_kube-system_0906eb67-1cf2-4b27-b0af-af438ca65279_0\n",
      "k8s_nvidia-device-plugin-ctr_nvidia-device-plugin-1646452256-kmvdc_kube-system_9ba75a1c-8338-45db-8e0e-c44ae0e74a3b_0\n",
      "k8s_POD_nvidia-device-plugin-1646452256-kmvdc_kube-system_9ba75a1c-8338-45db-8e0e-c44ae0e74a3b_0\n",
      "k8s_POD_kube-flannel-ds-h52s9_kube-system_0906eb67-1cf2-4b27-b0af-af438ca65279_0\n",
      "k8s_exporter_dcgm-exporter-1646452451-qgzq6_default_4293b4bd-64ab-4b6e-a46e-dbca62b160d4_0\n",
      "k8s_config-reloader_alertmanager-kube-prometheus-stack-1646-alertmanager-0_prometheus_ccd5fad0-e34b-4a42-adb2-1752d6299dd7_0\n",
      "k8s_alertmanager_alertmanager-kube-prometheus-stack-1646-alertmanager-0_prometheus_ccd5fad0-e34b-4a42-adb2-1752d6299dd7_0\n",
      "k8s_POD_dcgm-exporter-1646452451-qgzq6_default_4293b4bd-64ab-4b6e-a46e-dbca62b160d4_0\n",
      "k8s_config-reloader_prometheus-kube-prometheus-stack-1646-prometheus-0_prometheus_c0b73bd2-b3b5-4575-bfc1-daf812dd7947_0\n",
      "k8s_prometheus_prometheus-kube-prometheus-stack-1646-prometheus-0_prometheus_c0b73bd2-b3b5-4575-bfc1-daf812dd7947_0\n",
      "k8s_POD_alertmanager-kube-prometheus-stack-1646-alertmanager-0_prometheus_ccd5fad0-e34b-4a42-adb2-1752d6299dd7_0\n",
      "k8s_kube-prometheus-stack_kube-prometheus-stack-1646-operator-5cd8f77995-szsmc_prometheus_53e6a687-536f-4038-8c9b-333db76e5466_0\n",
      "k8s_node-exporter_kube-prometheus-stack-1646449909-prometheus-node-exporter-qdjrf_prometheus_63e508a0-85a6-4dbb-92c5-9b177c8facf1_0\n",
      "k8s_POD_kube-prometheus-stack-1646-operator-5cd8f77995-szsmc_prometheus_53e6a687-536f-4038-8c9b-333db76e5466_0\n",
      "k8s_POD_prometheus-kube-prometheus-stack-1646-prometheus-0_prometheus_c0b73bd2-b3b5-4575-bfc1-daf812dd7947_0\n",
      "k8s_POD_kube-prometheus-stack-1646449909-prometheus-node-exporter-qdjrf_prometheus_63e508a0-85a6-4dbb-92c5-9b177c8facf1_0\n",
      "k8s_POD_nfs-subdir-external-provisioner-654bb7ffd7-t9h7h_default_d6f1d1be-1805-44d6-b946-cae51deaeea7_0\n",
      "k8s_POD_rabbitmq-cluster-operator-755c76fc56-t6lg4_rabbitmq-system_87204b61-d694-46d9-9270-74cee4843c26_0\n",
      "k8s_kube-proxy_kube-proxy-5snkk_kube-system_8f4bbd18-e640-4167-96fc-724033da5168_1\n",
      "k8s_POD_kube-proxy-5snkk_kube-system_8f4bbd18-e640-4167-96fc-724033da5168_1\n",
      "cool_wiles\n",
      "thirsty_haibt\n",
      "cnt_river\n",
      "cnt_maxwilliam\n",
      "cnt_frank\n",
      "cnt_leroy\n",
      "cnt_david\n"
     ]
    }
   ],
   "source": [
    "containers = client5.containers.list(all=True)\n",
    "for container in containers:\n",
    "    print(container.name)"
   ]
  },
  {
   "cell_type": "code",
   "execution_count": 11,
   "metadata": {},
   "outputs": [],
   "source": [
    "# run a busybox container\n",
    "container = client.containers.run(\n",
    "    \"busybox\",\n",
    "    \"sh -c 'while true; do echo hello; sleep 1; done'\",\n",
    "    detach=True,\n",
    "    hostname=config.GPU5_DOCKER_HOST\n",
    ")"
   ]
  },
  {
   "cell_type": "code",
   "execution_count": null,
   "metadata": {},
   "outputs": [],
   "source": []
  }
 ],
 "metadata": {
  "kernelspec": {
   "display_name": "Python 3.10.4 ('schedulearn')",
   "language": "python",
   "name": "python3"
  },
  "language_info": {
   "codemirror_mode": {
    "name": "ipython",
    "version": 3
   },
   "file_extension": ".py",
   "mimetype": "text/x-python",
   "name": "python",
   "nbconvert_exporter": "python",
   "pygments_lexer": "ipython3",
   "version": "3.10.4"
  },
  "orig_nbformat": 4,
  "vscode": {
   "interpreter": {
    "hash": "6d076e4b4733baeb8f06e5fb62baae335452315d319e1f6c2ff42bd4b0c75ec6"
   }
  }
 },
 "nbformat": 4,
 "nbformat_minor": 2
}
